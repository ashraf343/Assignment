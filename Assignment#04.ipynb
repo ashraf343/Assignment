{
 "cells": [
  {
   "cell_type": "markdown",
   "metadata": {},
   "source": [
    "# Assignment # 4 "
   ]
  },
  {
   "cell_type": "markdown",
   "metadata": {},
   "source": [
    "### Question 1:\n",
    "###### Use a dictionary to store information about a person you know. Store their first name, last name, age, and the city in which they live. You should have keys such as first_name, last_name, age, and city. Print each piece of information stored in your dictionary. Add a new key value pair about qualification then update the qualification value to high academic level then delete it."
   ]
  },
  {
   "cell_type": "code",
   "execution_count": 1,
   "metadata": {},
   "outputs": [
    {
     "name": "stdout",
     "output_type": "stream",
     "text": [
      "{'First Name': 'ASHRAF', 'Last Name': 'HUSSAIN', 'Age': 22, 'City': 'Karachi'}\n",
      "{'First Name': 'ASHRAF', 'Last Name': 'HUSSAIN', 'Age': 22, 'City': 'Karachi', 'Qualification': 'To be updated'}\n",
      "{'First Name': 'ASHRAF', 'Last Name': 'HUSSAIN', 'Age': 22, 'City': 'Karachi', 'Qualification': 'BE Mechatronics'}\n",
      "{'First Name': 'ASHRAF', 'Last Name': 'HUSSAIN', 'Age': 22, 'City': 'Karachi'}\n"
     ]
    }
   ],
   "source": [
    "myinfo = { \n",
    "    \"First Name\": \"ASHRAF\",\n",
    "    \"Last Name\" : \"HUSSAIN\",\n",
    "    \"Age\"       : 22,\n",
    "    \"City\"      : \"Karachi\"\n",
    "            }\n",
    "print(myinfo)\n",
    "\n",
    "myinfo[\"Qualification\"] = \"To be updated\"\n",
    "print(myinfo)\n",
    "\n",
    "myinfo[\"Qualification\"]= \"BE Mechatronics\"\n",
    "print(myinfo)\n",
    "\n",
    "del myinfo[\"Qualification\"]\n",
    "print(myinfo)"
   ]
  },
  {
   "cell_type": "markdown",
   "metadata": {},
   "source": [
    "### Question 2:\n",
    "###### Make a dictionary called cities. Use the names of three cities as keys in your dictionary. Create a dictionary of information about each city and include the country that the city is in, its approximate population, and one fact about that city. The keys for each city’s dictionary should be something like country, population, and fact. Print the name of each city and all of the information you have stored about it."
   ]
  },
  {
   "cell_type": "code",
   "execution_count": 2,
   "metadata": {},
   "outputs": [
    {
     "name": "stdout",
     "output_type": "stream",
     "text": [
      "{'Country': 'Pakistan', 'population': 20000000, 'Fact': 'The Largest City of Pakistan !'}\n",
      "{'Country': 'France', 'Population': 199986, 'Fact': 'London Is The Smallest City of England. !'}\n",
      "{'Country': 'UAE', 'Population': 145000, 'Fact': 'Best Tourist Destination !'}\n"
     ]
    }
   ],
   "source": [
    "cities = {\n",
    "    \"Karachi\" : {\"Country\"    : \"Pakistan\" ,\n",
    "                 \"population\" : 20000000,\n",
    "                 \"Fact\"       : \"The Largest City of Pakistan !\"},\n",
    "    \n",
    "    \"London\"   : {\"Country\"      : \"France\" ,\n",
    "                  \"Population\"   : 199986,\n",
    "                  \"Fact\"         : \"London Is The Smallest City of England. !\"},\n",
    "    \n",
    "    \"Dubai\"    : {\"Country\"      : \"UAE\" ,\n",
    "                  \"Population\"   : 145000,\n",
    "                  \"Fact\"         : \"Best Tourist Destination !\"}\n",
    "}\n",
    "\n",
    "print(cities[\"Karachi\"])\n",
    "print(cities[\"London\"])\n",
    "print(cities[\"Dubai\"])"
   ]
  },
  {
   "cell_type": "markdown",
   "metadata": {},
   "source": [
    "## Question 3:\n",
    "###### A movie theater charges different ticket prices depending on a person’s age. If a person is under the age of 3, the ticket is free; if they are between 3 and 12, the ticket is 10 dollars; and if they are over age 12, the ticket is 15 dollars. Write a loop in which you ask users their age, and then tell them the cost of their movie ticket."
   ]
  },
  {
   "cell_type": "code",
   "execution_count": 3,
   "metadata": {},
   "outputs": [
    {
     "name": "stdout",
     "output_type": "stream",
     "text": [
      "\n",
      "Enter Your Age or 'n' to Stop:2\n",
      "Your ticket is free !\n",
      "\n",
      "Enter Your Age or 'n' to Stop:10\n",
      "Your ticket is $10 !\n",
      "\n",
      "Enter Your Age or 'n' to Stop:20\n",
      "Your ticket is $15 !\n",
      "\n",
      "Enter Your Age or 'n' to Stop:n\n"
     ]
    }
   ],
   "source": [
    "flag = True\n",
    "while flag:\n",
    "    age = input(\"\\nEnter Your Age or 'n' to Stop:\")\n",
    "    \n",
    "    if age.lower() == 'n':\n",
    "        flag = False\n",
    "    else:\n",
    "        int_age = int(age)\n",
    "        if int_age < 3:\n",
    "            print(\"Your ticket is free !\")\n",
    "        elif int_age >=3 and int_age <=12:\n",
    "            print(\"Your ticket is $10 !\")\n",
    "        elif int_age > 12:\n",
    "            print(\"Your ticket is $15 !\")"
   ]
  },
  {
   "cell_type": "markdown",
   "metadata": {},
   "source": [
    "### Question 4:\n",
    "###### Write a function called favorite_book() that accepts one parameter, title. The function should print a message, such as One of my favorite books is Alice in Wonderland. Call the function, making sure to include a book title as an argument in the function call."
   ]
  },
  {
   "cell_type": "code",
   "execution_count": 4,
   "metadata": {},
   "outputs": [
    {
     "name": "stdout",
     "output_type": "stream",
     "text": [
      "One of My Favorite Books Is 'War and Peace'.\n",
      "One of My Favorite Books Is 'In Search of Lost Time'.\n"
     ]
    }
   ],
   "source": [
    "def favorite_book(title):\n",
    "    print(f\"One of My Favorite Books Is '{title}'.\")\n",
    "    \n",
    "favorite_book(\"War and Peace\")\n",
    "favorite_book(\"In Search of Lost Time\")"
   ]
  },
  {
   "cell_type": "markdown",
   "metadata": {},
   "source": [
    "### Question 5:\n",
    "###### Guess the number game\n",
    "###### Write a program which randomly generate a number between 1 to 30 and ask the user in input field to guess the correct number. Give three chances to user guess the number and also give hint to user if hidden number is greater or smaller than the number he given to input field.\n"
   ]
  },
  {
   "cell_type": "code",
   "execution_count": 5,
   "metadata": {},
   "outputs": [
    {
     "name": "stdout",
     "output_type": "stream",
     "text": [
      "\n",
      "\tYou have 3 Chances To Guess The Number (From 1 to 30): 20\n",
      "\t The Number is Less Than This !\n",
      "\n",
      "\tYou have 2 Chances To Guess The Number (From 1 to 30): 10\n",
      "\t The Number is Greater Than This !\n",
      "\n",
      "\tYou have 1 Chances To Guess The Number (From 1 to 30): 18\n",
      "\t The Number is Greater Than This !\n",
      "\n",
      "\tYou Lost ! :(  Hidden Number was 26\n"
     ]
    }
   ],
   "source": [
    "import random as rd\n",
    "i = 3\n",
    "while i > 0:\n",
    "    correct_num = rd.randint(1,30)\n",
    "    user_num = int(input(f\"\\n\\tYou have {i} Chances To Guess The Number (From 1 to 30): \"))\n",
    "    \n",
    "    if user_num == correct_num:\n",
    "        print(\"\\tCorrect Guess, You Won:)\")\n",
    "        break\n",
    "    elif user_num > correct_num:\n",
    "        print(\"\\t The Number is Less Than This !\")\n",
    "        i -= 1\n",
    "    elif user_num < correct_num:\n",
    "        print(\"\\t The Number is Greater Than This !\")\n",
    "        i-=1\n",
    "    elif user_num < 1 or user_num > 30:\n",
    "        print(\"\\tPlease Guess The Number In Range 1 to 30 !\")\n",
    "        \n",
    "if i == 0:\n",
    "    print(f\"\\n\\tYou Lost ! :(  Hidden Number was {correct_num}\")"
   ]
  },
  {
   "cell_type": "code",
   "execution_count": null,
   "metadata": {},
   "outputs": [],
   "source": []
  }
 ],
 "metadata": {
  "kernelspec": {
   "display_name": "Python 3",
   "language": "python",
   "name": "python3"
  },
  "language_info": {
   "codemirror_mode": {
    "name": "ipython",
    "version": 3
   },
   "file_extension": ".py",
   "mimetype": "text/x-python",
   "name": "python",
   "nbconvert_exporter": "python",
   "pygments_lexer": "ipython3",
   "version": "3.7.4"
  }
 },
 "nbformat": 4,
 "nbformat_minor": 2
}
