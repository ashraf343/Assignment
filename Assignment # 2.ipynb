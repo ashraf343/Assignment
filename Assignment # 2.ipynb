{
 "cells": [
  {
   "cell_type": "markdown",
   "metadata": {},
   "source": [
    "#                       ASSIGNMENT # 2"
   ]
  },
  {
   "cell_type": "markdown",
   "metadata": {},
   "source": [
    "1. Write a program which takes 5 inputs from user for different subject’s marks, total it and generate mark sheet using grades ?\n"
   ]
  },
  {
   "cell_type": "code",
   "execution_count": 3,
   "metadata": {},
   "outputs": [
    {
     "name": "stdout",
     "output_type": "stream",
     "text": [
      "Please Enter Your Marks Out of 100\n"
     ]
    },
    {
     "name": "stdin",
     "output_type": "stream",
     "text": [
      "English :  87\n",
      "Maths :  67\n",
      "Physics :  56\n",
      "Urdu :  45\n",
      "Islamiat :  65\n"
     ]
    },
    {
     "name": "stdout",
     "output_type": "stream",
     "text": [
      "******************* Marksheet *******************\n",
      "STUDENT : ASHRAF HUSSAIN\n",
      "COURSE  : PYTHONE\n",
      "*************************************************\n",
      " ________________________________________________\n",
      "|   Subject   |  Obtained Marks  |  Total Marks |  \n",
      "|_____________|__________________|______________|\n",
      "| English     |      87.0        |     100      |\n",
      "| Mathematics |      67.0        |     100      | \n",
      "| Physics     |      56.0        |     100      |\n",
      "| Urdu        |      45.0        |     100      |\n",
      "| Islamiat    |      65.0        |     100      |\n",
      "|_____________|__________________|______________|\n",
      "| Total       |     320.0        |     100      |\n",
      "|_____________|__________________|______________|\n",
      "| Percentage : 64.0                             |\n",
      "| Grade Obtained : C                            |\n",
      "|_______________________________________________|\n"
     ]
    }
   ],
   "source": [
    "print(\"Please Enter Your Marks Out of 100\")\n",
    "\n",
    "#Initiliazation\n",
    "Eng = float (input(\"English : \"))\n",
    "Math = float (input(\"Maths : \"))\n",
    "Phy = float (input(\"Physics : \"))\n",
    "Urd = float (input(\"Urdu : \"))\n",
    "Isl = float (input(\"Islamiat : \"))\n",
    "\n",
    "#Calculation\n",
    "Total = Eng + Math + Phy + Urd + Isl \n",
    "per = (Total/500)*100\n",
    "\n",
    "#Conditions For Grade\n",
    "if per >= 90 and per <= 100 :\n",
    "    Grade = 'A+'\n",
    "elif per >= 80 and per <90 :\n",
    "    Grade = 'A'\n",
    "elif per >= 70 and per <80 :\n",
    "    Grade = 'B'\n",
    "elif per >= 60 and per < 70 :\n",
    "    Grade = 'C'\n",
    "elif per >= 50 and per <60 :\n",
    "    Grade = 'D'\n",
    "elif per < 60 :\n",
    "    Grade = 'Fail'\n",
    "    \n",
    "print(\"******************* Marksheet *******************\")    \n",
    "print(\"STUDENT : ASHRAF HUSSAIN\")\n",
    "print(\"COURSE  : PYTHONE\")\n",
    "print(\"*************************************************\")\n",
    "\n",
    "print(\" ________________________________________________\")\n",
    "print(\"|   Subject   |  Obtained Marks  |  Total Marks |  \")\n",
    "print(\"|_____________|__________________|______________|\")\n",
    "print(f\"| English     |      {Eng}        |     100      |\")\n",
    "print(f\"| Mathematics |      {Math}        |     100      | \")\n",
    "print(f\"| Physics     |      {Phy}        |     100      |\")\n",
    "print(f\"| Urdu        |      {Urd}        |     100      |\")\n",
    "print(f\"| Islamiat    |      {Isl}        |     100      |\")\n",
    "print(\"|_____________|__________________|______________|\")\n",
    "print(f\"| Total       |     {Total}        |     100      |\")\n",
    "print(\"|_____________|__________________|______________|\")\n",
    "print(f\"| Percentage : {per}                             |\")\n",
    "print(f\"| Grade Obtained : {Grade}                            |\")\n",
    "print(\"|_______________________________________________|\")"
   ]
  },
  {
   "cell_type": "markdown",
   "metadata": {},
   "source": [
    "2. Write a program which take input from user and identify that the given number is even or odd?\n"
   ]
  },
  {
   "cell_type": "code",
   "execution_count": 4,
   "metadata": {},
   "outputs": [
    {
     "name": "stdin",
     "output_type": "stream",
     "text": [
      "Enter Your Number :  99\n"
     ]
    },
    {
     "name": "stdout",
     "output_type": "stream",
     "text": [
      "ODD Number\n"
     ]
    }
   ],
   "source": [
    "Number = int(input(\"Enter Your Number : \"))\n",
    "\n",
    "# Conditions for EVEN/ODD\n",
    "if Number % 2 == 0:\n",
    "    print(\"EVEN Number\")\n",
    "    \n",
    "elif Number % 2 != 0:\n",
    "    print(\"ODD Number\")"
   ]
  },
  {
   "cell_type": "markdown",
   "metadata": {},
   "source": [
    "3. Write a program which print the length of the list?\n"
   ]
  },
  {
   "cell_type": "code",
   "execution_count": 5,
   "metadata": {},
   "outputs": [
    {
     "name": "stdout",
     "output_type": "stream",
     "text": [
      "The Length of The List is = 9\n"
     ]
    }
   ],
   "source": [
    "List = [1, 2, 3, 4, 5, 6, 7, 8, 9]\n",
    "Len=len(List)\n",
    "print(f\"The Length of The List is = {Len}\")"
   ]
  },
  {
   "cell_type": "markdown",
   "metadata": {},
   "source": [
    "4. Write a Python program to sum all the numeric items in a list?"
   ]
  },
  {
   "cell_type": "code",
   "execution_count": 6,
   "metadata": {},
   "outputs": [
    {
     "name": "stdout",
     "output_type": "stream",
     "text": [
      "The Sum Of The List is = 15\n"
     ]
    }
   ],
   "source": [
    "Sum = 0\n",
    "List = [5, 4, 3, 2, 1, 0]\n",
    "for Num in List:\n",
    "    Sum = Sum + Num\n",
    "    \n",
    "print(f\"The Sum Of The List is = {Sum}\")"
   ]
  },
  {
   "cell_type": "markdown",
   "metadata": {},
   "source": [
    "5. Write a Python program to get the largest number from a numeric list."
   ]
  },
  {
   "cell_type": "code",
   "execution_count": 7,
   "metadata": {},
   "outputs": [
    {
     "data": {
      "text/plain": [
       "11"
      ]
     },
     "execution_count": 7,
     "metadata": {},
     "output_type": "execute_result"
    }
   ],
   "source": [
    "List = [0, 6, 8, -6, -1, 7, -1, -2, 11, 9]\n",
    "max(List)"
   ]
  },
  {
   "cell_type": "markdown",
   "metadata": {},
   "source": [
    "6. Take a list, say for example this one:\n",
    "a = [1, 1, 2, 3, 5, 8, 13, 21, 34, 55, 89]\n",
    "and write a program that prints out all the elements of the list that are less than 5."
   ]
  },
  {
   "cell_type": "code",
   "execution_count": 8,
   "metadata": {},
   "outputs": [
    {
     "name": "stdout",
     "output_type": "stream",
     "text": [
      "1\n",
      "1\n",
      "2\n",
      "3\n"
     ]
    }
   ],
   "source": [
    "List = [1, 1, 2, 3, 5, 8, 13, 21, 34, 55, 89]\n",
    "for Num in List:\n",
    "     if Num < 5:\n",
    "             print(Num) "
   ]
  },
  {
   "cell_type": "code",
   "execution_count": null,
   "metadata": {},
   "outputs": [],
   "source": []
  }
 ],
 "metadata": {
  "kernelspec": {
   "display_name": "Python 3",
   "language": "python",
   "name": "python3"
  },
  "language_info": {
   "codemirror_mode": {
    "name": "ipython",
    "version": 3
   },
   "file_extension": ".py",
   "mimetype": "text/x-python",
   "name": "python",
   "nbconvert_exporter": "python",
   "pygments_lexer": "ipython3",
   "version": "3.7.4"
  }
 },
 "nbformat": 4,
 "nbformat_minor": 4
}
