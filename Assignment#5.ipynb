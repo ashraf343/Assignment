{
 "cells": [
  {
   "cell_type": "markdown",
   "metadata": {},
   "source": [
    "# Assignment #5\n",
    "### Q1: Write a Python function to calculate a factorial of a number (a non-negative integer). The function accepts the number as an argument."
   ]
  },
  {
   "cell_type": "code",
   "execution_count": 41,
   "metadata": {},
   "outputs": [
    {
     "name": "stdout",
     "output_type": "stream",
     "text": [
      "5040\n"
     ]
    }
   ],
   "source": [
    "def factorial(num):\n",
    "    product = 1\n",
    "    while num > 0:\n",
    "        product *= num\n",
    "        num -= 1\n",
    "    print(product)\n",
    "\n",
    "# Calling\n",
    "factorial(7)"
   ]
  },
  {
   "cell_type": "markdown",
   "metadata": {},
   "source": [
    "### Q2: Write a Python function that accepts a string and calculate the number of uppercase letters and lowercase letters."
   ]
  },
  {
   "cell_type": "code",
   "execution_count": 42,
   "metadata": {},
   "outputs": [
    {
     "name": "stdout",
     "output_type": "stream",
     "text": [
      "There are 4 Lower case letters:\n",
      "There are 5 Upper case letters:\n"
     ]
    }
   ],
   "source": [
    "def case_counter(string):\n",
    "    upper_count = 0\n",
    "    lower_count = 0\n",
    "    for letter in string:\n",
    "        if letter == letter.lower():\n",
    "            lower_count += 1\n",
    "        elif letter == letter.upper():\n",
    "            upper_count += 1\n",
    "    print(f\"There are {lower_count} Lower case letters:\")\n",
    "    print(f\"There are {upper_count} Upper case letters:\")\n",
    "    \n",
    "# Calling\n",
    "case_counter(\"AbCdEfGhI\")"
   ]
  },
  {
   "cell_type": "markdown",
   "metadata": {},
   "source": [
    "### Q3: Write a Python program to print the even numbers from the given list."
   ]
  },
  {
   "cell_type": "code",
   "execution_count": 43,
   "metadata": {},
   "outputs": [
    {
     "name": "stdout",
     "output_type": "stream",
     "text": [
      "2\n",
      "4\n",
      "6\n",
      "8\n",
      "10\n",
      "12\n"
     ]
    }
   ],
   "source": [
    "# Definition\n",
    "def even_printer(numbers):\n",
    "    for number in numbers:\n",
    "        if number % 2 == 0:\n",
    "            print(number)\n",
    "            \n",
    "# Calling\n",
    "even_printer([1,2,3,4,5,6,7,8,9,10,11,12])"
   ]
  },
  {
   "cell_type": "markdown",
   "metadata": {},
   "source": [
    "### Q4: Write a Python function that checks whether a passed string is palindrome or not.\n",
    "### Note: A palindrome is a word, phrase or sequence that reads the same backward as forward, e.g., madam"
   ]
  },
  {
   "cell_type": "code",
   "execution_count": 44,
   "metadata": {},
   "outputs": [
    {
     "name": "stdout",
     "output_type": "stream",
     "text": [
      "This is a palindrome string.\n",
      "This is not a palindrome string.\n"
     ]
    }
   ],
   "source": [
    "def check_palindrome(string):\n",
    "    if string == string[::-1]:\n",
    "        print(\"This is a palindrome string.\")\n",
    "    else:\n",
    "        print(\"This is not a palindrome string.\")\n",
    "        \n",
    "# Calling\n",
    "check_palindrome(\"madam\")\n",
    "check_palindrome(\"Ashraf\")"
   ]
  },
  {
   "cell_type": "markdown",
   "metadata": {},
   "source": [
    "### Q5: Write a Python function that takes a number as a parameter and check, the number is prime or not."
   ]
  },
  {
   "cell_type": "code",
   "execution_count": 45,
   "metadata": {},
   "outputs": [
    {
     "name": "stdout",
     "output_type": "stream",
     "text": [
      "21 : Not a Prime Number\n",
      "17 : Prime Number !\n"
     ]
    }
   ],
   "source": [
    "def check_prime(num):\n",
    "    flag = True\n",
    "    if num > 1:  \n",
    "        for i in range(2,num):  \n",
    "            if (num % i) == 0:  \n",
    "                print(num,\": Not a Prime Number\")  \n",
    "                flag = False\n",
    "                break  \n",
    "        if flag:\n",
    "            print(num, \": Prime Number !\")\n",
    "\n",
    "    else:\n",
    "        print(num, \": Not a Prime Number\")\n",
    "\n",
    "    # Calling\n",
    "check_prime(21)\n",
    "check_prime(17)"
   ]
  },
  {
   "cell_type": "markdown",
   "metadata": {},
   "source": [
    "### Q6: Suppose a customer is shopping in a market and you need to print all the items which user bought from market.\n",
    "### Write a function which accepts multiple arguments of user shopping list and print all the items which user bought from the market."
   ]
  },
  {
   "cell_type": "code",
   "execution_count": 46,
   "metadata": {},
   "outputs": [
    {
     "name": "stdout",
     "output_type": "stream",
     "text": [
      "Items:\n",
      "\n",
      "\tMilk\n",
      "\tEggs\n",
      "\tBreads\n",
      "\tButter\n"
     ]
    }
   ],
   "source": [
    "def shopping(*items):\n",
    "    print(\"Items:\\n\")\n",
    "    for item in items:\n",
    "        print(f\"\\t{item}\")\n",
    "        \n",
    "# Calling\n",
    "shopping(\"Milk\",\"Eggs\",\"Breads\",\"Butter\")  "
   ]
  },
  {
   "cell_type": "code",
   "execution_count": null,
   "metadata": {},
   "outputs": [],
   "source": []
  }
 ],
 "metadata": {
  "kernelspec": {
   "display_name": "Python 3",
   "language": "python",
   "name": "python3"
  },
  "language_info": {
   "codemirror_mode": {
    "name": "ipython",
    "version": 3
   },
   "file_extension": ".py",
   "mimetype": "text/x-python",
   "name": "python",
   "nbconvert_exporter": "python",
   "pygments_lexer": "ipython3",
   "version": "3.7.4"
  }
 },
 "nbformat": 4,
 "nbformat_minor": 2
}
