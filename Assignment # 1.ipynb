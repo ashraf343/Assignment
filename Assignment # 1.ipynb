{
 "cells": [
  {
   "cell_type": "markdown",
   "metadata": {},
   "source": [
    "# Assignment # 1\n"
   ]
  },
  {
   "cell_type": "markdown",
   "metadata": {},
   "source": [
    "### Program 1:"
   ]
  },
  {
   "cell_type": "code",
   "execution_count": 1,
   "metadata": {},
   "outputs": [
    {
     "name": "stdout",
     "output_type": "stream",
     "text": [
      "Twinkle, Twinkle, little star\n",
      "\t How I wonder what you are!\n",
      "\t \t Up above the world so high,\n",
      "\t \t Like a dimond in the sky.\n",
      "Twinkle, Twinkle, little star\n",
      "\t How I wonder what you are\n"
     ]
    }
   ],
   "source": [
    "print(\"Twinkle, Twinkle, little star\")\n",
    "print(\"\\t How I wonder what you are!\")\n",
    "print(\"\\t \\t Up above the world so high,\")\n",
    "print(\"\\t \\t Like a dimond in the sky.\")\n",
    "print(\"Twinkle, Twinkle, little star\")\n",
    "print(\"\\t How I wonder what you are\")"
   ]
  },
  {
   "cell_type": "markdown",
   "metadata": {},
   "source": [
    "### Program 2:"
   ]
  },
  {
   "cell_type": "code",
   "execution_count": 2,
   "metadata": {},
   "outputs": [
    {
     "name": "stdin",
     "output_type": "stream",
     "text": [
      "Python Version(3.7 or 2.7) =  3.7\n"
     ]
    },
    {
     "name": "stdout",
     "output_type": "stream",
     "text": [
      "You Are Using 3.7 Version of Python\n"
     ]
    }
   ],
   "source": [
    "x=input(\"Python Version(3.7 or 2.7) = \")\n",
    "print(\"You Are Using \"+x+\" Version of Python\")"
   ]
  },
  {
   "cell_type": "markdown",
   "metadata": {},
   "source": [
    "### Program 3:"
   ]
  },
  {
   "cell_type": "code",
   "execution_count": 4,
   "metadata": {},
   "outputs": [
    {
     "name": "stdin",
     "output_type": "stream",
     "text": [
      "Enter Current Date (DD.MM.YYYY) =  02.11.2019\n",
      "Enter Current Time (HH:MM) =  11:38\n"
     ]
    },
    {
     "name": "stdout",
     "output_type": "stream",
     "text": [
      "Your Current Date is 02.11.2019\n",
      "Your Current Time is 11:38\n"
     ]
    }
   ],
   "source": [
    "Date=input(\"Enter Current Date (DD.MM.YYYY) = \")\n",
    "Time=input(\"Enter Current Time (HH:MM) = \")\n",
    "print(\"Your Current Date is \"+Date+\"\")\n",
    "print(\"Your Current Time is \"+Time+\"\")"
   ]
  },
  {
   "cell_type": "markdown",
   "metadata": {},
   "source": [
    "### Program 4:"
   ]
  },
  {
   "cell_type": "code",
   "execution_count": 5,
   "metadata": {},
   "outputs": [
    {
     "name": "stdout",
     "output_type": "stream",
     "text": [
      "Program For Area of Circle \n",
      "\n"
     ]
    },
    {
     "name": "stdin",
     "output_type": "stream",
     "text": [
      " Enter The Radius of a Circle =  12\n"
     ]
    },
    {
     "name": "stdout",
     "output_type": "stream",
     "text": [
      "\n",
      "\n",
      " Radius = 12\n",
      " Area = 452.304\n"
     ]
    }
   ],
   "source": [
    "# Formula For Circle Area A=π*r**2\n",
    "print(\"Program For Area of Circle \\n\")\n",
    "radius = input(\" Enter The Radius of a Circle = \" )\n",
    "pi=3.141\n",
    "Area=pi*(float(radius)**2)\n",
    "print(\"\\n\\n Radius = \" + radius)\n",
    "print (\" Area =\",Area)"
   ]
  },
  {
   "cell_type": "markdown",
   "metadata": {},
   "source": [
    "### Program 5:"
   ]
  },
  {
   "cell_type": "code",
   "execution_count": 6,
   "metadata": {},
   "outputs": [
    {
     "name": "stdin",
     "output_type": "stream",
     "text": [
      "Enter Your First Name :  Ashraf\n",
      "Enter Your Last Name : Hussain\n"
     ]
    },
    {
     "name": "stdout",
     "output_type": "stream",
     "text": [
      "\n",
      " Full Name is  Hussain Ashraf\n"
     ]
    }
   ],
   "source": [
    "#Accept First and Last & Last name, Print in Reverse with Space\n",
    "First=input(\"Enter Your First Name : \")\n",
    "Last=input(\"Enter Your Last Name :\")\n",
    "Full = Last + \" \" + First\n",
    "print(\"\\n Full Name is \", Full)"
   ]
  },
  {
   "cell_type": "markdown",
   "metadata": {},
   "source": [
    "### Program 6:"
   ]
  },
  {
   "cell_type": "code",
   "execution_count": null,
   "metadata": {},
   "outputs": [],
   "source": [
    "Accept 2 input and Add them\n",
    "x=input(\"Enter First input : \")\n",
    "y=input(\"Enter Second Input :\")\n",
    "sum = float(x) + float(y)\n",
    "print(\"\\n Total Sum = \",sum)"
   ]
  },
  {
   "cell_type": "code",
   "execution_count": null,
   "metadata": {},
   "outputs": [],
   "source": []
  }
 ],
 "metadata": {
  "kernelspec": {
   "display_name": "Python 3",
   "language": "python",
   "name": "python3"
  },
  "language_info": {
   "codemirror_mode": {
    "name": "ipython",
    "version": 3
   },
   "file_extension": ".py",
   "mimetype": "text/x-python",
   "name": "python",
   "nbconvert_exporter": "python",
   "pygments_lexer": "ipython3",
   "version": "3.7.4"
  }
 },
 "nbformat": 4,
 "nbformat_minor": 4
}
